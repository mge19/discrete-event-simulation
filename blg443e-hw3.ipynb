{
 "cells": [
  {
   "cell_type": "markdown",
   "metadata": {},
   "source": [
    "BLG443E-Discrete Event Simulation\n",
    "Assignment-3 (simulation code)\n",
    "Mehmet Gencay Ertürk-150130118\n",
    "There are three different types of events\n",
    "People needs cabbages comes every 0-3 days\n",
    "When a cabbage is ordered,it takes 1-15 days to get delivered\n",
    "A cabbage goes rotten within 7-12 days\n",
    "Assumed all of them are in uniform distribution\n",
    "Event class is used for recognizing events with name and time"
   ]
  },
  {
   "cell_type": "code",
   "execution_count": null,
   "metadata": {},
   "outputs": [],
   "source": [
    "import random\n",
    "import matplotlib.pyplot as plt\n",
    "import numpy as np\n",
    "import operator\n",
    "def people_arrival_time(): \n",
    "    return random.uniform(0,3)\n",
    "def cabbages_go_rotten():\n",
    "    return random.uniform(7,12)\n",
    "def reorder_cabbages():\n",
    "    return random.uniform(1,15)\n",
    "class Event:\n",
    "    def __init__(self,event_name,event_time):\n",
    "        self.event_name=event_name\n",
    "        self.event_time=event_time"
   ]
  },
  {
   "cell_type": "markdown",
   "metadata": {},
   "source": [
    "Simulation uses the Event List Processing algorithm. \n",
    "State:Number of cabbages in stock\n",
    "Start parameter:Initial number of cabbages on stock\n",
    "Future event list:Inıtialized with a people and rottening time of first cabbages\n",
    "If a customer buys a cabbage, it will be happy and a new cabbage is ordered immediately\n",
    "A customer is unhappy if it finds the stock empty\n",
    "Simulation stops when number of happy people is equal to 10\n",
    "If a cabbage is added to stock, rotting time of it is added to the Future Event List\n",
    "Statistics=Number of unhappy customers,number of cabbages go rotting"
   ]
  },
  {
   "cell_type": "code",
   "execution_count": null,
   "metadata": {},
   "outputs": [],
   "source": [
    "def simulation(start):\n",
    "    clock=0\n",
    "    stock=start\n",
    "    future_event_list=list()\n",
    "    number_of_rotten_cabbages=0\n",
    "    happy_people=0\n",
    "    unhappy_people=0\n",
    "    future_event_list.append(Event(\"Customer Arrive\",people_arrival_time())) \n",
    "    for i in range(0,stock):\n",
    "        future_event_list.append(Event(\"Rotten Cabbage\",cabbages_go_rotten()))\n",
    "    future_event_list.sort(key=operator.attrgetter('event_time'))\n",
    "    while(happy_people<10):\n",
    "        current_event=future_event_list.pop(0)\n",
    "        clock=current_event.event_time\n",
    "        if(current_event.event_name==\"Customer Arrive\"):\n",
    "            if(stock==0):\n",
    "                unhappy_people=unhappy_people+1\n",
    "            else:\n",
    "                stock=stock-1\n",
    "                future_event_list.append(Event(\"Cabbage Arrive\",clock+reorder_cabbages()))\n",
    "                happy_people=happy_people+1\n",
    "            future_event_list.append(Event(\"Customer Arrive\",clock+people_arrival_time())) \n",
    "        elif(current_event.event_name==\"Cabbage Arrive\"):\n",
    "            stock=stock+1\n",
    "            future_event_list.append(Event(\"Rotten Cabbage\",clock+cabbages_go_rotten()))\n",
    "        elif(current_event.event_name==\"Rotten Cabbage\"):\n",
    "            stock=stock-1\n",
    "            number_of_rotten_cabbages=number_of_rotten_cabbages+1   \n",
    "        future_event_list.sort(key=operator.attrgetter('event_time'))\n",
    "    return [number_of_rotten_cabbages,unhappy_people] "
   ]
  },
  {
   "cell_type": "markdown",
   "metadata": {},
   "source": [
    "Run simulations with different start parameters from 3 to 10 and print the bar chart"
   ]
  },
  {
   "cell_type": "code",
   "execution_count": null,
   "metadata": {},
   "outputs": [],
   "source": [
    "result1=list() \n",
    "result2=list() \n",
    "for i in range(3,11):\n",
    "    [x,y]=simulation(i) \n",
    "    result1.append(x) \n",
    "    result2.append(y)\n",
    "index=np.arange(9)\n",
    "bar_width=0.45\n",
    "opacity=0.6\n",
    "error_config={'ecolor':'0.4'}\n",
    "fig,ax=plt.subplots() \n",
    "rects1=ax.bar(index,result1,bar_width,alpha=opacity,color='r',error_kw=error_config,label='Number of rotten cabbages')\n",
    "rects2=ax.bar(index+bar_width,result2,bar_width,alpha=opacity,color='b',error_kw=error_config,label='Number of unhappy people')\n",
    "ax.set_title('Simulation results')\n",
    "ax.set_xlabel('Inıtial number of cabbages kept in stock')\n",
    "ax.set_ylabel('Results')\n",
    "ax.set_xticks(index)\n",
    "ax.set_xticklabels(range(3,11))\n",
    "ax.legend()\n",
    "plt.show()"
   ]
  },
  {
   "cell_type": "code",
   "execution_count": null,
   "metadata": {},
   "outputs": [],
   "source": []
  },
  {
   "cell_type": "code",
   "execution_count": null,
   "metadata": {},
   "outputs": [],
   "source": []
  }
 ],
 "metadata": {
  "kernelspec": {
   "display_name": "Python 3",
   "language": "python",
   "name": "python3"
  },
  "language_info": {
   "codemirror_mode": {
    "name": "ipython",
    "version": 3
   },
   "file_extension": ".py",
   "mimetype": "text/x-python",
   "name": "python",
   "nbconvert_exporter": "python",
   "pygments_lexer": "ipython3",
   "version": "3.6.4"
  }
 },
 "nbformat": 4,
 "nbformat_minor": 2
}
